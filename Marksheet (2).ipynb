{
 "cells": [
  {
   "cell_type": "code",
   "execution_count": 38,
   "metadata": {},
   "outputs": [
    {
     "name": "stdout",
     "output_type": "stream",
     "text": [
      "Enter Name: warda\n",
      "Enter Roll: 123\n",
      "Enter your no of subjects 4\n",
      "Subject 1: 65\n",
      "Subject 2: 76\n",
      "Subject 3: 78\n",
      "Subject 4: 56\n",
      "Total  275\n",
      "Percentage  68.75\n",
      "Grade B\n"
     ]
    }
   ],
   "source": [
    "Name = input(\"Enter Name: \")\n",
    "roll_no = int(input(\"Enter Roll: \"))\n",
    "Subjects = int(input(\"Enter your no of subjects \"))\n",
    "Sub_marks = []\n",
    "total = 0\n",
    "grade = \"\"\n",
    "percentage = 0\n",
    "for i in range(Subjects):\n",
    "    a = int(input(\"Subject \"+str(i+1)+\": \" ))\n",
    "    Sub_marks.append(a)\n",
    "\n",
    "\n",
    "for x in Sub_marks:\n",
    "            total += x\n",
    "print(\"Total \", total)\n",
    "\n",
    "per = total/Subjects \n",
    "print(\"Percentage \",per)\n",
    "\n",
    "\n",
    "if(per >= 80 and per <= 100 ):\n",
    "    print(\"Grade A+\")\n",
    "elif(per >= 70 and per <= 79):\n",
    "    print(\"Grade A\")\n",
    "elif(per >= 60 and per <= 69):\n",
    "    print(\"Grade B\")\n",
    "elif(per >= 50 and per <= 59):\n",
    "    print(\"Grade C\")\n",
    "elif(per >= 40 and per <= 49):\n",
    "    print(\"Grade D\")\n",
    "elif(per >= 33 and per <= 39):\n",
    "    print(\"Grade E\")\n",
    "else:\n",
    "    print(\"Grade F\")\n",
    "\n",
    "\n"
   ]
  },
  {
   "cell_type": "code",
   "execution_count": null,
   "metadata": {},
   "outputs": [],
   "source": []
  },
  {
   "cell_type": "code",
   "execution_count": 33,
   "metadata": {},
   "outputs": [
    {
     "name": "stdout",
     "output_type": "stream",
     "text": [
      "F\n"
     ]
    }
   ],
   "source": []
  },
  {
   "cell_type": "code",
   "execution_count": null,
   "metadata": {},
   "outputs": [],
   "source": []
  }
 ],
 "metadata": {
  "kernelspec": {
   "display_name": "Python 3",
   "language": "python",
   "name": "python3"
  },
  "language_info": {
   "codemirror_mode": {
    "name": "ipython",
    "version": 3
   },
   "file_extension": ".py",
   "mimetype": "text/x-python",
   "name": "python",
   "nbconvert_exporter": "python",
   "pygments_lexer": "ipython3",
   "version": "3.7.4"
  }
 },
 "nbformat": 4,
 "nbformat_minor": 2
}
